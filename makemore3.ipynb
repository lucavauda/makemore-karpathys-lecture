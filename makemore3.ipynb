{
  "nbformat": 4,
  "nbformat_minor": 0,
  "metadata": {
    "colab": {
      "provenance": [],
      "gpuType": "T4",
      "collapsed_sections": [
        "rUV97ZZsF83l"
      ],
      "authorship_tag": "ABX9TyM29XqQ4UPPdlUgb31N3zim",
      "include_colab_link": true
    },
    "kernelspec": {
      "name": "python3",
      "display_name": "Python 3"
    },
    "language_info": {
      "name": "python"
    },
    "accelerator": "GPU"
  },
  "cells": [
    {
      "cell_type": "markdown",
      "metadata": {
        "id": "view-in-github",
        "colab_type": "text"
      },
      "source": [
        "<a href=\"https://colab.research.google.com/github/lucavauda/makemore-karpathys-lecture/blob/main/makemore3.ipynb\" target=\"_parent\"><img src=\"https://colab.research.google.com/assets/colab-badge.svg\" alt=\"Open In Colab\"/></a>"
      ]
    },
    {
      "cell_type": "markdown",
      "source": [
        "# makemore: part 3"
      ],
      "metadata": {
        "id": "UGsmNwvSxC2c"
      }
    },
    {
      "cell_type": "code",
      "execution_count": null,
      "metadata": {
        "id": "J-9li_pOwc-V"
      },
      "outputs": [],
      "source": [
        "import torch\n",
        "import torch.nn.functional as F\n",
        "import matplotlib.pyplot as plt\n",
        "%matplotlib inline"
      ]
    },
    {
      "cell_type": "code",
      "source": [
        "# read in all the words\n",
        "words = open('names.txt', 'r').read().splitlines()\n",
        "# print the first 8 elements\n",
        "words[:8]"
      ],
      "metadata": {
        "colab": {
          "base_uri": "https://localhost:8080/"
        },
        "id": "HUIhZE2AxgjQ",
        "outputId": "f3bd4392-bd25-417e-8f10-44621464e8e2"
      },
      "execution_count": null,
      "outputs": [
        {
          "output_type": "execute_result",
          "data": {
            "text/plain": [
              "['emma', 'olivia', 'ava', 'isabella', 'sophia', 'charlotte', 'mia', 'amelia']"
            ]
          },
          "metadata": {},
          "execution_count": 2
        }
      ]
    },
    {
      "cell_type": "code",
      "source": [
        "## print the lenght of the file\n",
        "len(words)"
      ],
      "metadata": {
        "colab": {
          "base_uri": "https://localhost:8080/"
        },
        "id": "jTH-TlHfxvKF",
        "outputId": "5990cbe9-2042-43c2-9423-2fc3749a3917"
      },
      "execution_count": null,
      "outputs": [
        {
          "output_type": "execute_result",
          "data": {
            "text/plain": [
              "32033"
            ]
          },
          "metadata": {},
          "execution_count": 3
        }
      ]
    },
    {
      "cell_type": "code",
      "source": [
        "# build the vocabulary of charactres and mappings to/from integers\n",
        "chars = sorted(list(set(''.join(words))))\n",
        "stoi = {s:i+1 for i,s in enumerate(chars)}\n",
        "stoi['.'] = 0\n",
        "itos = {i:s for s,i in stoi.items()}\n",
        "vocab_size = len(itos)\n",
        "print(itos)\n",
        "print(vocab_size)"
      ],
      "metadata": {
        "colab": {
          "base_uri": "https://localhost:8080/"
        },
        "id": "X9fdQnwRx0ze",
        "outputId": "ddcdd9c9-483f-4823-87b3-59c0db7156dd"
      },
      "execution_count": null,
      "outputs": [
        {
          "output_type": "stream",
          "name": "stdout",
          "text": [
            "{1: 'a', 2: 'b', 3: 'c', 4: 'd', 5: 'e', 6: 'f', 7: 'g', 8: 'h', 9: 'i', 10: 'j', 11: 'k', 12: 'l', 13: 'm', 14: 'n', 15: 'o', 16: 'p', 17: 'q', 18: 'r', 19: 's', 20: 't', 21: 'u', 22: 'v', 23: 'w', 24: 'x', 25: 'y', 26: 'z', 0: '.'}\n",
            "27\n"
          ]
        }
      ]
    },
    {
      "cell_type": "code",
      "source": [
        "# build the dataset\n",
        "def build_dataset(words):\n",
        "  block_size = 3\n",
        "  X,Y = [], []\n",
        "  for w in words:\n",
        "    context = [0] * block_size\n",
        "    for ch in w + '.':\n",
        "      ix = stoi[ch]\n",
        "      X.append(context)\n",
        "      Y.append(ix)\n",
        "      #print(''.join(itos[i] for i in context), '--->', itos[ix])\n",
        "      context = context[1:] + [ix] # crop and append\n",
        "\n",
        "  X = torch.tensor(X)\n",
        "  Y = torch.tensor(Y)\n",
        "  print(X.shape, Y.shape)\n",
        "  return X,Y\n",
        "\n",
        "# splitting random words into traning, dev and test set\n",
        "import random\n",
        "random.seed(42)\n",
        "random.shuffle(words)\n",
        "n1 = int(0.8*len(words))\n",
        "n2 = int(0.9*len(words))\n",
        "\n",
        "Xtr, Ytr = build_dataset(words[:n1])\n",
        "Xdev, Ydev = build_dataset(words[n1:n2])\n",
        "Xte, Yte = build_dataset(words[n2:])"
      ],
      "metadata": {
        "colab": {
          "base_uri": "https://localhost:8080/"
        },
        "id": "jjhEAhYg4iYP",
        "outputId": "81182dc7-48ec-4c74-c34b-d96df1366129"
      },
      "execution_count": null,
      "outputs": [
        {
          "output_type": "stream",
          "name": "stdout",
          "text": [
            "torch.Size([182625, 3]) torch.Size([182625])\n",
            "torch.Size([22655, 3]) torch.Size([22655])\n",
            "torch.Size([22866, 3]) torch.Size([22866])\n"
          ]
        }
      ]
    },
    {
      "cell_type": "code",
      "source": [
        "# MLP revised\n",
        "n_embd = 10 # the dimensionality of the character embedding vectors\n",
        "n_hidden = 200 # the number in the hidden layer of the MLP\n",
        "\n",
        "g = torch.Generator().manual_seed(2147483647) # for reproducibility\n",
        "C = torch.randn((vocab_size, n_embd), generator=g) # increase from 2 dim embeddings to 10 dimensional embeddings\n",
        "# W1 = torch.randn((n_embd * block_size, n_hidden), generator=g) * 0.2 # of course the first 6 becomes 30 (3*10)\n",
        "W1 = torch.randn((n_embd * block_size, n_hidden), generator=g) * (5/3) / ((n_embd * block_size)**0.5) # kaiming init\n",
        "# b1 = torch.randn(n_hidden, generator=g) * 0.01 at the end, we don't want to use this bias, we use the batch normalization bias, no need to use this\n",
        "W2 = torch.randn((n_hidden, 27), generator=g) * 0.01\n",
        "# you don't want to set w2 at zero\n",
        "b2 = torch.randn(27, generator=g) * 0 # b2 set to 0 at initialization\n",
        "\n",
        "# BatchNorm parameters\n",
        "bngain = torch.ones((1, n_hidden))\n",
        "bnbias = torch.zeros((1, n_hidden))\n",
        "bnmean_running = torch.zeros((1, n_hidden)) # these are not trained with backprop but with a simpler optimization function\n",
        "bnstd_running = torch.ones((1, n_hidden))\n",
        "\n",
        "parameters = [C, W1, b1, W2, b2, bngains, bnbias]\n",
        "\n",
        "print(sum(p.nelement() for p in parameters)) # numbers of parameters in total\n",
        "for p in parameters:\n",
        "  p.requires_grad = True"
      ],
      "metadata": {
        "id": "dgmncePM52Vj",
        "colab": {
          "base_uri": "https://localhost:8080/"
        },
        "outputId": "c626fdfd-3cb1-458d-948a-d45997c0c113"
      },
      "execution_count": null,
      "outputs": [
        {
          "output_type": "stream",
          "name": "stdout",
          "text": [
            "11897\n"
          ]
        }
      ]
    },
    {
      "cell_type": "code",
      "source": [
        "# same optimization as last time\n",
        "max_steps = 200000\n",
        "batch_size = 30\n",
        "lossi = []\n",
        "\n",
        "for i in range(max_steps):\n",
        "  # minibatch construct\n",
        "  ix = torch.randint(0, Xtr.shape[0], (batch_size,), generator=g)\n",
        "  Xb, Yb = Xtr[ix], Ytr[ix] # batch X,Y\n",
        "\n",
        "  # forward pass\n",
        "  emb = C[Xb] # embed the characters into vectors\n",
        "  embcat = emb.view(emb.shape[0], -1) # concatenate the vectors\n",
        "  hpreact = embcat @ W1 #+ b1 # hidden layer pre-activation\n",
        "  # hpreact = bngains * (hpreact - hpreact.mean(0, keepdim=True)) / hpreact.std(0, keepdim=True) + bnbias # batch normalization\n",
        "  # BatchNorm layer\n",
        "  # -----------------\n",
        "  bnmeani = hpreact.mean(0, keepdim=True)\n",
        "  bnstdi = hpreact.std(0, keepdim=True)\n",
        "  hpreact = bngains * (hpreact - bnmeani) / bnstdi + bnbias\n",
        "\n",
        "  # we are going to keep a running mean and std during training\n",
        "  with torch.no_grad(): # outside and on the side of the gradient based optimization\n",
        "    bnmean_running = 0.999 * bnmean_running + 0.001 * bnmeani\n",
        "    bnstd_running = 0.999 * bnstd_running + 0.001 * bnstdi\n",
        "  # -----------------\n",
        "  # Non-Linearity (tanh), for deeper network, empirically reLU works better\n",
        "  h = torch.tanh(hpreact) # hidden layer\n",
        "  logits = h @ W2 + b2 # output layer\n",
        "  loss = F.cross_entropy(logits, Yb) # loss function\n",
        "\n",
        "  # backward pass\n",
        "  for p in parameters:\n",
        "    p.grad = None\n",
        "  loss.backward()\n",
        "\n",
        "  # update - modify with a learning rate\n",
        "  #lr = lrs[i]\n",
        "  lr = 0.1 if i < 10000 else 0.01\n",
        "  # we can use the learn decay loss\n",
        "  # modify for the last step of the training the learning rate to be 0.01\n",
        "  for p in parameters:\n",
        "    p.data += -lr * p.grad\n",
        "\n",
        "  # track stats\n",
        "  #lri.append(lre[i])\n",
        "  if i % 10000 == 0: # print once in a while\n",
        "    print(f'{i:7d}/{max_steps:7d}:{loss.item():4f}')\n",
        "  lossi.append(loss.log10().item())\n"
      ],
      "metadata": {
        "id": "oDnY1oCSBvsG",
        "colab": {
          "base_uri": "https://localhost:8080/"
        },
        "outputId": "15c2cdeb-776c-454b-e71d-6fb7b415660b"
      },
      "execution_count": null,
      "outputs": [
        {
          "output_type": "stream",
          "name": "stdout",
          "text": [
            "      0/ 200000:3.319774\n",
            "  10000/ 200000:2.497976\n",
            "  20000/ 200000:2.340629\n",
            "  30000/ 200000:2.329052\n",
            "  40000/ 200000:1.676216\n",
            "  50000/ 200000:2.089127\n",
            "  60000/ 200000:1.663130\n",
            "  70000/ 200000:2.193901\n",
            "  80000/ 200000:2.564897\n",
            "  90000/ 200000:2.372077\n",
            " 100000/ 200000:2.113152\n",
            " 110000/ 200000:2.063868\n",
            " 120000/ 200000:2.084643\n",
            " 130000/ 200000:1.965992\n",
            " 140000/ 200000:2.162648\n",
            " 150000/ 200000:2.270882\n",
            " 160000/ 200000:2.154498\n",
            " 170000/ 200000:1.932925\n",
            " 180000/ 200000:2.113736\n",
            " 190000/ 200000:2.164387\n"
          ]
        }
      ]
    },
    {
      "cell_type": "code",
      "source": [
        "plt.plot(lossi)"
      ],
      "metadata": {
        "colab": {
          "base_uri": "https://localhost:8080/",
          "height": 447
        },
        "id": "I2-5pYwmA0Ga",
        "outputId": "6e465c52-c2f9-48da-e926-d0bc90f10dd7"
      },
      "execution_count": null,
      "outputs": [
        {
          "output_type": "execute_result",
          "data": {
            "text/plain": [
              "[<matplotlib.lines.Line2D at 0x7d469a263ca0>]"
            ]
          },
          "metadata": {},
          "execution_count": 65
        },
        {
          "output_type": "display_data",
          "data": {
            "text/plain": [
              "<Figure size 640x480 with 1 Axes>"
            ],
            "image/png": "[encoded data removed]"
          },
          "metadata": {}
        }
      ]
    },
    {
      "cell_type": "markdown",
      "source": [
        "[Documentation for no_grad](https://pytorch.org/docs/stable/generated/torch.no_grad.html), is used because whatever happens in this function is requiered by Torch to never require any gradient."
      ],
      "metadata": {
        "id": "o-pIgdD84J9T"
      }
    },
    {
      "cell_type": "code",
      "source": [
        "# calibrate the batch norm at the end of training\n",
        "\n",
        "with torch.no_grad(): # none of this will be done on the backward pass\n",
        "  # pass the training set through\n",
        "  emb = C[Xtr]\n",
        "  embcat = emb.view(emb.shape[0], -1)\n",
        "  hpreact = embcat @ W1 + b1\n",
        "  # measure the mean/std over the entire training set\n",
        "  bnmean = hpreact.mean(0, keepdim= True)\n",
        "  bnstd = hpreact.std(0, keepdim=True)"
      ],
      "metadata": {
        "id": "o9NfsOuzfC1W"
      },
      "execution_count": null,
      "outputs": []
    },
    {
      "cell_type": "code",
      "source": [
        "@torch.no_grad() # this decorator disables gradient tracking\n",
        "def split_loss(split):\n",
        "  x,y = {\n",
        "      'train': (Xtr,Ytr),\n",
        "      'val' : (Xdev, Ydev),\n",
        "      'test' : (Xte, Yte),\n",
        "  }[split]\n",
        "  emb = C[x] # (N, block_size, n_embd)\n",
        "  embcat = emb.view(emb.shape[0], -1) # concat into (N, block_size * n_embd)\n",
        "  hpreact = embcat @ W1 + b1 # hidden layer pre-activation\n",
        "  # hpreact = bngains * (hpreact - hpreact.mean(0, keepdim=True)) / hpreact.std(0, keepdim=True) + bnbias # batch normalization\n",
        "  hpreact = bngain * (hpreact - bnmean_running) / bnstd_running + bnbias # at test time, we are going to fix this, clump them and use them at inference time\n",
        "  # the benefit that we've gained is that we can forward a single example, because the mean and std are fixed tensor\n",
        "  h = torch.tanh(embcat @ W1 + b1) # (N, n_hidden)\n",
        "  logits = h @ W2 + b2 # (N, vocab_size)\n",
        "  loss = F.cross_entropy(logits, y)\n",
        "  print(split, loss.item())\n",
        "\n",
        "split_loss('train')\n",
        "split_loss('val')"
      ],
      "metadata": {
        "colab": {
          "base_uri": "https://localhost:8080/"
        },
        "id": "9idRCFYB8ZGZ",
        "outputId": "dca4e43d-278f-4ab4-8d1a-e68cbcfa907c"
      },
      "execution_count": null,
      "outputs": [
        {
          "output_type": "stream",
          "name": "stdout",
          "text": [
            "train 2.0820887088775635\n",
            "val 2.1236214637756348\n"
          ]
        }
      ]
    },
    {
      "cell_type": "markdown",
      "source": [
        "# Sample from the model"
      ],
      "metadata": {
        "id": "5gJgAbECDNIC"
      }
    },
    {
      "cell_type": "code",
      "source": [
        "g = torch.Generator().manual_seed(2147483647 + 10)\n",
        "\n",
        "for _ in range(20):\n",
        "\n",
        "    out = []\n",
        "    context = [0] * block_size # initialize with all ...\n",
        "    while True:\n",
        "      # forward pass the neural net\n",
        "      emb = C[torch.tensor([context])] # (1,block_size,d)\n",
        "      h = torch.tanh(emb.view(1, -1) @ W1 + b1)\n",
        "      logits = h @ W2 + b2\n",
        "      probs = F.softmax(logits, dim=1)\n",
        "      # sample from the distribution\n",
        "      ix = torch.multinomial(probs, num_samples=1, generator=g).item()\n",
        "      context = context[1:] + [ix]\n",
        "      out.append(ix)\n",
        "      # if we sample the special '.' token, break\n",
        "      if ix == 0:\n",
        "        break\n",
        "\n",
        "    print(''.join(itos[i] for i in out))"
      ],
      "metadata": {
        "colab": {
          "base_uri": "https://localhost:8080/"
        },
        "id": "RFOcZ45__sTq",
        "outputId": "63332a65-adf3-4168-e28e-3f91ad4800c9"
      },
      "execution_count": null,
      "outputs": [
        {
          "output_type": "stream",
          "name": "stdout",
          "text": [
            "mria.\n",
            "mayah.\n",
            "seel.\n",
            "nihah.\n",
            "lore.\n",
            "mastendrlee.\n",
            "aderedielin.\n",
            "shy.\n",
            "jen.\n",
            "edenslan.\n",
            "nar.\n",
            "katelmalyan.\n",
            "noshir.\n",
            "rilairiel.\n",
            "kindo.\n",
            "jelionnicoory.\n",
            "brey.\n",
            "dariyah.\n",
            "faehs.\n",
            "kaysh.\n"
          ]
        }
      ]
    },
    {
      "cell_type": "markdown",
      "source": [
        "# Fixing initial loss"
      ],
      "metadata": {
        "id": "qQevZ4flYIRm"
      }
    },
    {
      "cell_type": "markdown",
      "source": [
        "So, after presenting the code from the last part (makemore: part 2), with some refactoring of the code, the first thing we notice is how the network is *improperly configured in the initialization*.  At first, we can notice how the first 0-1000 iteration have a loss of (circa) 27.88. This number rapidly comes down to less than 2. But 27 is way to high.\n",
        "Consider this problem, at inizialition there are 27 character that could come one after another. At initialization, we have no reason to believe any characters to be much more likely than others. We expect that the probability distribution initially is a uniform distribution, assigning each character the same probability."
      ],
      "metadata": {
        "id": "jaGsig3S5HDN"
      }
    },
    {
      "cell_type": "markdown",
      "source": [
        "Roughly, 1/27 would be the idea initial probability:"
      ],
      "metadata": {
        "id": "AfeN-p_K6eoK"
      }
    },
    {
      "cell_type": "code",
      "source": [
        "torch.tensor(1/27.0)"
      ],
      "metadata": {
        "colab": {
          "base_uri": "https://localhost:8080/"
        },
        "id": "9PhSD5oe509N",
        "outputId": "ba9f4f99-7809-42b4-adf2-af98419d02c0"
      },
      "execution_count": null,
      "outputs": [
        {
          "output_type": "execute_result",
          "data": {
            "text/plain": [
              "tensor(0.0370)"
            ]
          },
          "metadata": {},
          "execution_count": 25
        }
      ]
    },
    {
      "cell_type": "markdown",
      "source": [
        "Then you have to calculate the loss, based on the negative log probability."
      ],
      "metadata": {
        "id": "NM6bkC1T6p6y"
      }
    },
    {
      "cell_type": "code",
      "source": [
        "-torch.tensor(1/27.0).log()"
      ],
      "metadata": {
        "colab": {
          "base_uri": "https://localhost:8080/"
        },
        "id": "Iq44pmoQ6jkj",
        "outputId": "d5d715d9-7360-495e-ea01-5de5cde190cb"
      },
      "execution_count": null,
      "outputs": [
        {
          "output_type": "execute_result",
          "data": {
            "text/plain": [
              "tensor(3.2958)"
            ]
          },
          "metadata": {},
          "execution_count": 27
        }
      ]
    },
    {
      "cell_type": "markdown",
      "source": [
        "The actual results we should expect at initialization is circa `3.92`."
      ],
      "metadata": {
        "id": "G2cKwf8w7BJF"
      }
    },
    {
      "cell_type": "code",
      "source": [
        "# 4-dimensional example of the issue\n",
        "#logits = torch.tensor([-3.0, 5.0, 0.0, 2.0]) # the loss is high\n",
        "logits = torch.rand(4) # the distribution is uniform\n",
        "probs = torch.softmax(logits, dim=0)\n",
        "loss = -probs[2].log()\n",
        "probs, loss"
      ],
      "metadata": {
        "colab": {
          "base_uri": "https://localhost:8080/"
        },
        "id": "TLVhxhXn6ylX",
        "outputId": "b533e61e-71f1-4f3e-faba-d5df2b79acd8"
      },
      "execution_count": null,
      "outputs": [
        {
          "output_type": "execute_result",
          "data": {
            "text/plain": [
              "(tensor([0.2738, 0.2462, 0.1825, 0.2975]), tensor(1.7007))"
            ]
          },
          "metadata": {},
          "execution_count": 29
        }
      ]
    },
    {
      "cell_type": "markdown",
      "source": [
        "By fixing the initialization bias and weights, we get a less steeper loss.\n",
        "We multiplied by 0 the bias and by 0.01 the weights.\n",
        "Infact, when we plot it, we do not see the \"hockey stick\" graph. We can notice how the logits are squashed and the network is doing the \"heavy work\".\n",
        "Also, we are getting a little improvment on the loss. This is because we are spending more time optimizing the network and we are not wasting the first cycles \"squashing down\" the weights."
      ],
      "metadata": {
        "id": "1CRo1TSZAOLu"
      }
    },
    {
      "cell_type": "markdown",
      "source": [
        "# fixing the saturated tanh"
      ],
      "metadata": {
        "id": "vqk3_9HLYMTJ"
      }
    },
    {
      "cell_type": "markdown",
      "source": [
        "The `tanh` function is a squashing function. It takes arbitrary number and squashes any number between -1 and 1. We can notice by printing `h` that many of them are just -1 or 1. This problem is the **tanh saturation**."
      ],
      "metadata": {
        "id": "eVw6tjs2BNge"
      }
    },
    {
      "cell_type": "markdown",
      "source": [
        "To visualize this, you convert the tensor into a list of value of floating numbers and then plotting them."
      ],
      "metadata": {
        "id": "_u-H12PzB_wV"
      }
    },
    {
      "cell_type": "code",
      "source": [
        "h"
      ],
      "metadata": {
        "colab": {
          "base_uri": "https://localhost:8080/"
        },
        "id": "5Fcb6Y2BB_Pf",
        "outputId": "9d402f95-e9fb-4981-efd2-d5a55ab67330"
      },
      "execution_count": null,
      "outputs": [
        {
          "output_type": "execute_result",
          "data": {
            "text/plain": [
              "tensor([[-1.0000,  0.9437, -0.4301,  ...,  0.8613,  1.0000,  1.0000],\n",
              "        [ 0.7976, -0.5923, -0.8230,  ..., -1.0000,  1.0000,  1.0000],\n",
              "        [ 0.9999, -1.0000, -0.9517,  ..., -1.0000,  1.0000,  0.2204],\n",
              "        ...,\n",
              "        [-0.8278,  1.0000,  0.9820,  ..., -0.9922,  0.9903,  1.0000],\n",
              "        [ 0.9998, -0.9990, -1.0000,  ..., -1.0000,  1.0000,  1.0000],\n",
              "        [-0.9562,  0.9984, -0.9991,  ...,  0.8151,  0.9981,  0.3243]],\n",
              "       grad_fn=<TanhBackward0>)"
            ]
          },
          "metadata": {},
          "execution_count": 47
        }
      ]
    },
    {
      "cell_type": "code",
      "source": [
        "h.shape"
      ],
      "metadata": {
        "colab": {
          "base_uri": "https://localhost:8080/"
        },
        "id": "KmWgUfKECTbI",
        "outputId": "a977e247-6198-41c6-e1d5-475e85f0bc80"
      },
      "execution_count": null,
      "outputs": [
        {
          "output_type": "execute_result",
          "data": {
            "text/plain": [
              "torch.Size([30, 200])"
            ]
          },
          "metadata": {},
          "execution_count": 48
        }
      ]
    },
    {
      "cell_type": "code",
      "source": [
        "h.view(-1).shape"
      ],
      "metadata": {
        "colab": {
          "base_uri": "https://localhost:8080/"
        },
        "id": "7aqwX7CJCXu-",
        "outputId": "5b33bf38-5547-498c-fa77-b0065e34700f"
      },
      "execution_count": null,
      "outputs": [
        {
          "output_type": "execute_result",
          "data": {
            "text/plain": [
              "torch.Size([6000])"
            ]
          },
          "metadata": {},
          "execution_count": 49
        }
      ]
    },
    {
      "cell_type": "code",
      "source": [
        "plt.hist(h.view(-1).tolist(), 50) # the tolist() function converst the tensor\n",
        "                                  # a list of float"
      ],
      "metadata": {
        "colab": {
          "base_uri": "https://localhost:8080/",
          "height": 760
        },
        "id": "7KOrbTw3CaWV",
        "outputId": "6df2329c-3c71-457c-a82d-c12374626b4e"
      },
      "execution_count": null,
      "outputs": [
        {
          "output_type": "execute_result",
          "data": {
            "text/plain": [
              "(array([535., 167., 168., 162., 117., 103., 121., 116., 116.,  93.,  97.,\n",
              "        106.,  70.,  97.,  71.,  88.,  57.,  75.,  85., 100.,  78.,  98.,\n",
              "         87.,  91.,  80., 105., 103.,  91.,  79., 103.,  81.,  86.,  82.,\n",
              "         89.,  75.,  82.,  95.,  84.,  89.,  82.,  86.,  79., 113., 121.,\n",
              "        111., 119., 130., 168., 185., 584.]),\n",
              " array([-9.99998510e-01, -9.59998543e-01, -9.19998577e-01, -8.79998610e-01,\n",
              "        -8.39998643e-01, -7.99998677e-01, -7.59998710e-01, -7.19998744e-01,\n",
              "        -6.79998777e-01, -6.39998810e-01, -5.99998844e-01, -5.59998877e-01,\n",
              "        -5.19998910e-01, -4.79998944e-01, -4.39998977e-01, -3.99999011e-01,\n",
              "        -3.59999044e-01, -3.19999077e-01, -2.79999111e-01, -2.39999144e-01,\n",
              "        -1.99999177e-01, -1.59999211e-01, -1.19999244e-01, -7.99992776e-02,\n",
              "        -3.99993110e-02,  6.55651092e-07,  4.00006223e-02,  8.00005889e-02,\n",
              "         1.20000556e-01,  1.60000522e-01,  2.00000489e-01,  2.40000455e-01,\n",
              "         2.80000422e-01,  3.20000389e-01,  3.60000355e-01,  4.00000322e-01,\n",
              "         4.40000288e-01,  4.80000255e-01,  5.20000222e-01,  5.60000188e-01,\n",
              "         6.00000155e-01,  6.40000122e-01,  6.80000088e-01,  7.20000055e-01,\n",
              "         7.60000021e-01,  7.99999988e-01,  8.39999955e-01,  8.79999921e-01,\n",
              "         9.19999888e-01,  9.59999855e-01,  9.99999821e-01]),\n",
              " <BarContainer object of 50 artists>)"
            ]
          },
          "metadata": {},
          "execution_count": 59
        },
        {
          "output_type": "display_data",
          "data": {
            "text/plain": [
              "<Figure size 640x480 with 1 Axes>"
            ],
            "image/png": "[encoded data removed]"
          },
          "metadata": {}
        }
      ]
    },
    {
      "cell_type": "markdown",
      "source": [
        "You can also visualize the pre-activation."
      ],
      "metadata": {
        "id": "o2bBQJuIDAco"
      }
    },
    {
      "cell_type": "code",
      "source": [
        "plt.hist(hpreact.view(-1).tolist(), 50)"
      ],
      "metadata": {
        "colab": {
          "base_uri": "https://localhost:8080/",
          "height": 725
        },
        "id": "b1IAm4ODCiGa",
        "outputId": "fe89ce76-0da2-4a8f-9e23-4d1abcf18965"
      },
      "execution_count": null,
      "outputs": [
        {
          "output_type": "execute_result",
          "data": {
            "text/plain": [
              "(array([  1.,   0.,   2.,   3.,   2.,   6.,  12.,  13.,  13.,  19.,  36.,\n",
              "         36.,  42.,  62.,  75., 119., 123., 150., 282., 303., 457., 495.,\n",
              "        640., 681., 526., 420., 381., 252., 170., 165., 133.,  85.,  74.,\n",
              "         53.,  41.,  38.,  21.,  13.,  13.,  14.,   8.,   4.,   2.,   2.,\n",
              "          4.,   3.,   2.,   1.,   1.,   2.]),\n",
              " array([-7.04710531, -6.74283566, -6.43856602, -6.13429637, -5.83002672,\n",
              "        -5.52575707, -5.22148743, -4.91721778, -4.61294813, -4.30867848,\n",
              "        -4.00440884, -3.70013919, -3.39586954, -3.09159989, -2.78733025,\n",
              "        -2.4830606 , -2.17879095, -1.8745213 , -1.57025166, -1.26598201,\n",
              "        -0.96171236, -0.65744271, -0.35317307, -0.04890342,  0.25536623,\n",
              "         0.55963588,  0.86390553,  1.16817517,  1.47244482,  1.77671447,\n",
              "         2.08098412,  2.38525376,  2.68952341,  2.99379306,  3.29806271,\n",
              "         3.60233235,  3.906602  ,  4.21087165,  4.5151413 ,  4.81941094,\n",
              "         5.12368059,  5.42795024,  5.73221989,  6.03648953,  6.34075918,\n",
              "         6.64502883,  6.94929848,  7.25356812,  7.55783777,  7.86210742,\n",
              "         8.16637707]),\n",
              " <BarContainer object of 50 artists>)"
            ]
          },
          "metadata": {},
          "execution_count": 60
        },
        {
          "output_type": "display_data",
          "data": {
            "text/plain": [
              "<Figure size 640x480 with 1 Axes>"
            ],
            "image/png": "[encoded data removed]"
          },
          "metadata": {}
        }
      ]
    },
    {
      "cell_type": "markdown",
      "source": [
        "The distribution is very broad, from -15 to 15."
      ],
      "metadata": {
        "id": "eJJbh2keDKLV"
      }
    },
    {
      "cell_type": "markdown",
      "source": [
        "But why is it a problem? When doing backpropagation, we are doing backward pass starting at the loss and flowing through the netowork backwards. In particular, through the `torch.tanh`. This layer is made up of 200 neurons for each one of these examples and implements an **element-wise tanh**.\n",
        "\n",
        "Doing the chan-rule of backprop, you calculate the derivative of tanh, `gradient = (1 - t**2) * gradient`. But what if you get your output to 1 or -1? No matter what the gradient is, you will get the gradient equal to zero.\n",
        "\n",
        "Intuitively, think about how tanh function works when we have -1 o 1, we are on the tail of the curve. So changing the input, will not change that much because we are in the flat region of tanh, so there will be no **impact on the loss**."
      ],
      "metadata": {
        "id": "9a7yu7tXDWsE"
      }
    },
    {
      "cell_type": "code",
      "source": [
        "plt.figure(figsize=(20,10))\n",
        "plt.imshow(h.abs() > 0.99, cmap='gray', interpolation='nearest')"
      ],
      "metadata": {
        "colab": {
          "base_uri": "https://localhost:8080/",
          "height": 148
        },
        "id": "q-Eb3MyzDINM",
        "outputId": "85e515c1-c0e0-48da-a445-4ad484a5fe3f"
      },
      "execution_count": null,
      "outputs": [
        {
          "output_type": "execute_result",
          "data": {
            "text/plain": [
              "<matplotlib.image.AxesImage at 0x7d469a1d5090>"
            ]
          },
          "metadata": {},
          "execution_count": 61
        },
        {
          "output_type": "display_data",
          "data": {
            "text/plain": [
              "<Figure size 2000x1000 with 1 Axes>"
            ],
            "image/png": "[encoded data removed]"
          },
          "metadata": {}
        }
      ]
    },
    {
      "cell_type": "markdown",
      "source": [
        "How often `h` is in a flat region? We can visualize it by using `h.abs() > 0.99` as a Boolean tensor, where white is true and black is false. 32 examples and 200 neurons. A lot of them are white, so in a flat tails. The backward gradient is destroyed.\n",
        "\n",
        "**Dead neuron**: when no single example in the 32 column does not activate. No matter what input, the neuron fires all 1 or -1.\n",
        "\n",
        "This could happen also to sigmoid and ReLU.\n",
        "\n",
        "Leaky ReLU doesn't suffer from this, neither does ELU."
      ],
      "metadata": {
        "id": "wJFmLCxTLR7k"
      }
    },
    {
      "cell_type": "markdown",
      "source": [
        "The hpreact is too large, it's creating a saturated tanh. It means there's less training because they update it less frequently.\n",
        "\n",
        "How to fix it? We can multiply by `0.01` the `b1` bias vector, to keep a bit of variance and entropy; and multiply the `0.1` the `W1` weight matrix.\n",
        "\n",
        "Now, let's look on how the plot of h have changed. The histogram, at first was with very high value at the extreme now it is much more distributed. Then, the distribution is now black with no white. No neurons are saturated in either direction."
      ],
      "metadata": {
        "id": "R6ln84-CStbQ"
      }
    },
    {
      "cell_type": "markdown",
      "source": [
        "# calculating the init scale: \"Kaiming init\""
      ],
      "metadata": {
        "id": "rOkcwRklYqxa"
      }
    },
    {
      "cell_type": "markdown",
      "source": [
        "No one actually set the aforementioned parameters by hand."
      ],
      "metadata": {
        "id": "GZMMif6GPRis"
      }
    },
    {
      "cell_type": "code",
      "source": [
        "x = torch.randn(1000, 10) # guassian distribution\n",
        "w = torch.randn(10, 200) / 10**0.5\n",
        "y = x @ w\n",
        "print(x.mean(), x.std())\n",
        "print(y.mean(), y.std()) # the mean is the same, but the amplitude of the curve is greater, hence the standard deviation is greater\n",
        "plt.figure(figsize=(20, 5))\n",
        "plt.subplot(121)\n",
        "plt.hist(x.view(-1).tolist(), 50, density=True)\n",
        "plt-subplot(122)\n",
        "plt.hist(y.view(-1).tolist(), 50, density=True)"
      ],
      "metadata": {
        "id": "T4N3kTVhPnEu"
      },
      "execution_count": null,
      "outputs": []
    },
    {
      "cell_type": "markdown",
      "source": [
        "This is basically what's happening in the network. Our objective is to have relatively similar activation. Preserving the distribution to remain a gaussian. Intuitvely, by multipling by `5` the `w`, the amplitude grows. But if we multiply by `0.2`, it shrink. What do I multiply to excatly preserve the distribution? Mathematically, you are supposed to divide by the square root of the **fan-in**. The fan-in is the number of the input (10). So here we should divide by `sqrt(10)`, or `/ 10**0.5`."
      ],
      "metadata": {
        "id": "JmZqNqlhQz5M"
      }
    },
    {
      "cell_type": "markdown",
      "source": [
        "Kaiming He et al. has a really interesting paper about it. Karpathy points out that the main point of this paper is that you should initialize the weight by having a gaussian distribution having a standard deviation of `sqrt(2/fan-in)`. The 2 is because in the paper ReLU is analyzed. Instead, for the backpropagation, they found out that if the forward pass is well-initialized, the backward pass will approximately initialized up to a costant factor that has to do with the size of hidden neuron in early and late neurons.\n",
        "If we go to the [torch.init.nn documentation](https://pytorch.org/docs/stable/nn.init.html), we can se Kaiming normal, which is the standard way to initialize networks.\n",
        "Now with modern frameworks, a lot of things are integrated better, for example like residual connection, the use of normalization layers and much better optimizer (like RMSProp and Adam)."
      ],
      "metadata": {
        "id": "uwS7nRLeSXM5"
      }
    },
    {
      "cell_type": "code",
      "source": [
        "(torch.randn(1000) * 0.2).std() # the standard deviation is the factor we multiply by"
      ],
      "metadata": {
        "id": "zdpA0OchVjYt"
      },
      "execution_count": null,
      "outputs": []
    },
    {
      "cell_type": "markdown",
      "source": [
        "So, in the initialization, we want to multiply by 5/3 (which is standard for the tanh activaction function [see documentation]) dived sqrt(fan-in) [30]."
      ],
      "metadata": {
        "id": "2UPLXIs9VvQK"
      }
    },
    {
      "cell_type": "code",
      "source": [
        "(5/3) / (30**0.5) #0.3"
      ],
      "metadata": {
        "id": "vCZCq19YSK66"
      },
      "execution_count": null,
      "outputs": []
    },
    {
      "cell_type": "markdown",
      "source": [
        "# batch normalization"
      ],
      "metadata": {
        "id": "sq8_gefcXgyr"
      }
    },
    {
      "cell_type": "markdown",
      "source": [
        "`hpreact` are hidden state, we don't want it to be too small and too large. We want them to be roughly gaussian. Just normalize them to be gaussian. Standardizing to gaussian is a differentiable operation."
      ],
      "metadata": {
        "id": "QNu4OtF7X7Db"
      }
    },
    {
      "cell_type": "code",
      "source": [
        " hpreact.shape() #32, 200"
      ],
      "metadata": {
        "id": "Vt5P1RF6XitJ"
      },
      "execution_count": null,
      "outputs": []
    },
    {
      "cell_type": "code",
      "source": [
        "hpreact.mean(0, keepdim=True).shape #1, 200"
      ],
      "metadata": {
        "id": "NKnWLuj6YjZl"
      },
      "execution_count": null,
      "outputs": []
    },
    {
      "cell_type": "code",
      "source": [
        "hpreact.std(0, keepdim=True).shape #1, 200"
      ],
      "metadata": {
        "id": "tllq1ZDTYrXD"
      },
      "execution_count": null,
      "outputs": []
    },
    {
      "cell_type": "markdown",
      "source": [
        "In the main training script, we can make the batch normalization code is  `hpreact = (hpreact - hpreact.mean(0, keepdim=True)) / hpreact.std(0, keepdim=True) # batch normalization`. But it will not increase the performance just yet, we want it to be roughly gaussian only at the initialization. We would like to be able to move the distribution around.\n",
        "# Scale and shift\n",
        "scaling and adding a bias in the initialization. After initializing two tensors:\n",
        "\n",
        "*   `bngain = torch.ones((1, n_hidden))`\n",
        "*   `bnbias = torch.zeros((1, n_hidden))`\n",
        "\n",
        "We first multply at the start by `bngain` and at the end add `bnbias`.\n",
        "At initialization will be a nice gaussian, coming out will be unit gaussian for each neuron. During backprop, the network will be able to scale and shift the distribution.\n",
        "\n",
        "Also, include them in the parameters of the neural net.\n",
        "\n",
        "Batch normalization could be a kind of data augmentation because of the padding of the data with entropy. Now there are some other regularization techniques, but batch norm is usally used. Yet, it can lead to some weird results.\n",
        "\n"
      ],
      "metadata": {
        "id": "nuwP5wpnZs2-"
      }
    }
  ]
}